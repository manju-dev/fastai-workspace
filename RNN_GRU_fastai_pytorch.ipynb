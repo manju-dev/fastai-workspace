{
  "nbformat": 4,
  "nbformat_minor": 0,
  "metadata": {
    "colab": {
      "name": "RNN-GRU-fastai-pytorch.ipynb",
      "provenance": [],
      "collapsed_sections": []
    },
    "kernelspec": {
      "name": "python3",
      "display_name": "Python 3"
    }
  },
  "cells": [
    {
      "cell_type": "markdown",
      "metadata": {
        "id": "yoFDMoLEDwid"
      },
      "source": [
        "# RNN-GRU architecture implementation with fast.ai and PyTorch\n",
        "\n",
        "### GRU Architecture\n",
        "![GRU Cell](https://upload.wikimedia.org/wikipedia/commons/3/37/Gated_Recurrent_Unit%2C_base_type.svg)\n",
        "\n",
        "\n",
        "### Equations - GRU - fully gated version\n",
        "![GRU equations](https://wikimedia.org/api/rest_v1/media/math/render/svg/56d278fc80bd8febad40b3550de6d77e883e9c0b)\n",
        "\n",
        "\n",
        "**References**\n",
        "* [fastbook - Chapter 12 - NLP](https://github.com/fastai/fastbook/blob/master/12_nlp_dive.ipynb)\n",
        "* [Wikipedia - Gated recurrent unit](https://en.wikipedia.org/wiki/Gated_recurrent_unit)"
      ]
    },
    {
      "cell_type": "markdown",
      "metadata": {
        "id": "Q0gOkT5oirQg"
      },
      "source": [
        "## Setup\n",
        "\n",
        "Download and preprocessing HUMAN_NUMBERS dataset from fast.ai"
      ]
    },
    {
      "cell_type": "code",
      "metadata": {
        "colab": {
          "base_uri": "https://localhost:8080/"
        },
        "id": "3viFJp6_D-l_",
        "outputId": "5da155ae-9ce7-43c8-e311-7c2b99c37445"
      },
      "source": [
        "!pip install -Uqq fastai"
      ],
      "execution_count": 1,
      "outputs": [
        {
          "output_type": "stream",
          "text": [
            "\u001b[K     |████████████████████████████████| 194kB 5.7MB/s \n",
            "\u001b[K     |████████████████████████████████| 61kB 5.3MB/s \n",
            "\u001b[?25h"
          ],
          "name": "stdout"
        }
      ]
    },
    {
      "cell_type": "code",
      "metadata": {
        "colab": {
          "base_uri": "https://localhost:8080/",
          "height": 17
        },
        "id": "hHxQ6021EBCb",
        "outputId": "d90096a2-975a-4606-f447-b44b03d2bf36"
      },
      "source": [
        "from fastai.text.all import *\n",
        "path = untar_data(URLs.HUMAN_NUMBERS)"
      ],
      "execution_count": 2,
      "outputs": [
        {
          "output_type": "display_data",
          "data": {
            "text/html": [
              ""
            ],
            "text/plain": [
              "<IPython.core.display.HTML object>"
            ]
          },
          "metadata": {
            "tags": []
          }
        }
      ]
    },
    {
      "cell_type": "code",
      "metadata": {
        "colab": {
          "base_uri": "https://localhost:8080/"
        },
        "id": "3BCmnfj5EC9W",
        "outputId": "85606d2e-a517-48ce-d5da-3a810737fe9b"
      },
      "source": [
        "lines = L()\n",
        "with open(path/'train.txt') as f: lines += L(*f.readlines())\n",
        "with open(path/'valid.txt') as f: lines += L(*f.readlines())\n",
        "lines"
      ],
      "execution_count": 3,
      "outputs": [
        {
          "output_type": "execute_result",
          "data": {
            "text/plain": [
              "(#9998) ['one \\n','two \\n','three \\n','four \\n','five \\n','six \\n','seven \\n','eight \\n','nine \\n','ten \\n'...]"
            ]
          },
          "metadata": {
            "tags": []
          },
          "execution_count": 3
        }
      ]
    },
    {
      "cell_type": "code",
      "metadata": {
        "colab": {
          "base_uri": "https://localhost:8080/",
          "height": 37
        },
        "id": "HLdzKul5EEc0",
        "outputId": "52599e56-5cd5-4d5d-e0eb-fcc00dd076d4"
      },
      "source": [
        "text = ' . '.join([l.strip() for l in lines])\n",
        "text[:100]"
      ],
      "execution_count": 4,
      "outputs": [
        {
          "output_type": "execute_result",
          "data": {
            "application/vnd.google.colaboratory.intrinsic+json": {
              "type": "string"
            },
            "text/plain": [
              "'one . two . three . four . five . six . seven . eight . nine . ten . eleven . twelve . thirteen . fo'"
            ]
          },
          "metadata": {
            "tags": []
          },
          "execution_count": 4
        }
      ]
    },
    {
      "cell_type": "code",
      "metadata": {
        "colab": {
          "base_uri": "https://localhost:8080/"
        },
        "id": "ozPwM65LEGB5",
        "outputId": "2dd3149f-4632-4e81-8459-87ca2fd603d6"
      },
      "source": [
        "tokens = text.split(' ')\n",
        "tokens[:10]"
      ],
      "execution_count": 5,
      "outputs": [
        {
          "output_type": "execute_result",
          "data": {
            "text/plain": [
              "['one', '.', 'two', '.', 'three', '.', 'four', '.', 'five', '.']"
            ]
          },
          "metadata": {
            "tags": []
          },
          "execution_count": 5
        }
      ]
    },
    {
      "cell_type": "code",
      "metadata": {
        "colab": {
          "base_uri": "https://localhost:8080/"
        },
        "id": "O9Oy6h7xEH18",
        "outputId": "f7425019-fac5-4166-8588-0ef5d8ba68ad"
      },
      "source": [
        "vocab = L(*tokens).unique()\n",
        "vocab"
      ],
      "execution_count": 6,
      "outputs": [
        {
          "output_type": "execute_result",
          "data": {
            "text/plain": [
              "(#30) ['one','.','two','three','four','five','six','seven','eight','nine'...]"
            ]
          },
          "metadata": {
            "tags": []
          },
          "execution_count": 6
        }
      ]
    },
    {
      "cell_type": "code",
      "metadata": {
        "colab": {
          "base_uri": "https://localhost:8080/"
        },
        "id": "FI030EtOEKuu",
        "outputId": "d85eff5d-3282-48b8-9b12-f43e0b84d1e7"
      },
      "source": [
        "word2idx = {w:i for i,w in enumerate(vocab)}\n",
        "nums = L(word2idx[i] for i in tokens)\n",
        "nums"
      ],
      "execution_count": 7,
      "outputs": [
        {
          "output_type": "execute_result",
          "data": {
            "text/plain": [
              "(#63095) [0,1,2,1,3,1,4,1,5,1...]"
            ]
          },
          "metadata": {
            "tags": []
          },
          "execution_count": 7
        }
      ]
    },
    {
      "cell_type": "code",
      "metadata": {
        "id": "BHwmpdMlPEcw"
      },
      "source": [
        "def group_chunks(ds, bs):\n",
        "    m = len(ds) // bs\n",
        "    new_ds = L()\n",
        "    for i in range(m): new_ds += L(ds[i + m*j] for j in range(bs))\n",
        "    return new_ds"
      ],
      "execution_count": 8,
      "outputs": []
    },
    {
      "cell_type": "code",
      "metadata": {
        "id": "u_qwMYPrEOhH"
      },
      "source": [
        "bs = 64\n",
        "sl = 16\n",
        "seqs = L((tensor(nums[i:i+sl]), tensor(nums[i+1:i+sl+1]))\n",
        "         for i in range(0,len(nums)-sl-1,sl))\n",
        "cut = int(len(seqs) * 0.8)\n",
        "dls = DataLoaders.from_dsets(group_chunks(seqs[:cut], bs),\n",
        "                             group_chunks(seqs[cut:], bs),\n",
        "                             bs=bs, drop_last=True, shuffle=False)"
      ],
      "execution_count": 9,
      "outputs": []
    },
    {
      "cell_type": "markdown",
      "metadata": {
        "id": "zSDa6qGuER_o"
      },
      "source": [
        "## Model with built-in GRU function\n",
        "\n",
        "To compare with our model implementation"
      ]
    },
    {
      "cell_type": "code",
      "metadata": {
        "id": "9KbcpNT5ERIu"
      },
      "source": [
        "class LMModel_GRU(Module):\n",
        "    def __init__(self, vocab_sz, n_hidden, n_layers):\n",
        "        self.i_h = nn.Embedding(vocab_sz, n_hidden)\n",
        "        self.rnn = nn.GRU(n_hidden, n_hidden, n_layers, batch_first=True)\n",
        "        self.h_o = nn.Linear(n_hidden, vocab_sz)\n",
        "        self.h = torch.zeros(n_layers, bs, n_hidden)\n",
        "        \n",
        "    def forward(self, x):\n",
        "        outs, h = self.rnn(self.i_h(x), self.h)\n",
        "        self.h = h.detach()\n",
        "        return self.h_o(outs)\n",
        "    \n",
        "    def reset(self): \n",
        "        self.h = self.h.zero_()"
      ],
      "execution_count": null,
      "outputs": []
    },
    {
      "cell_type": "code",
      "metadata": {
        "colab": {
          "base_uri": "https://localhost:8080/",
          "height": 520
        },
        "id": "wh4do4c8EdOY",
        "outputId": "0f8eb160-3de5-4484-8075-1a34c5e29a30"
      },
      "source": [
        "learn = Learner(dls, LMModel_GRU(len(vocab), 64, 2), \n",
        "                loss_func=CrossEntropyLossFlat(),\n",
        "                metrics=accuracy, cbs=ModelResetter)\n",
        "learn.fit_one_cycle(15, 1e-2)"
      ],
      "execution_count": null,
      "outputs": [
        {
          "output_type": "display_data",
          "data": {
            "text/html": [
              "<table border=\"1\" class=\"dataframe\">\n",
              "  <thead>\n",
              "    <tr style=\"text-align: left;\">\n",
              "      <th>epoch</th>\n",
              "      <th>train_loss</th>\n",
              "      <th>valid_loss</th>\n",
              "      <th>accuracy</th>\n",
              "      <th>time</th>\n",
              "    </tr>\n",
              "  </thead>\n",
              "  <tbody>\n",
              "    <tr>\n",
              "      <td>0</td>\n",
              "      <td>2.885426</td>\n",
              "      <td>2.543878</td>\n",
              "      <td>0.428223</td>\n",
              "      <td>00:01</td>\n",
              "    </tr>\n",
              "    <tr>\n",
              "      <td>1</td>\n",
              "      <td>2.036111</td>\n",
              "      <td>2.203238</td>\n",
              "      <td>0.358317</td>\n",
              "      <td>00:01</td>\n",
              "    </tr>\n",
              "    <tr>\n",
              "      <td>2</td>\n",
              "      <td>1.487370</td>\n",
              "      <td>1.974242</td>\n",
              "      <td>0.450521</td>\n",
              "      <td>00:01</td>\n",
              "    </tr>\n",
              "    <tr>\n",
              "      <td>3</td>\n",
              "      <td>1.047475</td>\n",
              "      <td>1.728969</td>\n",
              "      <td>0.583333</td>\n",
              "      <td>00:01</td>\n",
              "    </tr>\n",
              "    <tr>\n",
              "      <td>4</td>\n",
              "      <td>0.614403</td>\n",
              "      <td>1.360070</td>\n",
              "      <td>0.714600</td>\n",
              "      <td>00:01</td>\n",
              "    </tr>\n",
              "    <tr>\n",
              "      <td>5</td>\n",
              "      <td>0.321952</td>\n",
              "      <td>1.097459</td>\n",
              "      <td>0.762533</td>\n",
              "      <td>00:01</td>\n",
              "    </tr>\n",
              "    <tr>\n",
              "      <td>6</td>\n",
              "      <td>0.165975</td>\n",
              "      <td>1.264157</td>\n",
              "      <td>0.806722</td>\n",
              "      <td>00:01</td>\n",
              "    </tr>\n",
              "    <tr>\n",
              "      <td>7</td>\n",
              "      <td>0.088440</td>\n",
              "      <td>1.257791</td>\n",
              "      <td>0.788411</td>\n",
              "      <td>00:01</td>\n",
              "    </tr>\n",
              "    <tr>\n",
              "      <td>8</td>\n",
              "      <td>0.052492</td>\n",
              "      <td>1.417744</td>\n",
              "      <td>0.822673</td>\n",
              "      <td>00:01</td>\n",
              "    </tr>\n",
              "    <tr>\n",
              "      <td>9</td>\n",
              "      <td>0.033698</td>\n",
              "      <td>1.491579</td>\n",
              "      <td>0.820557</td>\n",
              "      <td>00:01</td>\n",
              "    </tr>\n",
              "    <tr>\n",
              "      <td>10</td>\n",
              "      <td>0.022534</td>\n",
              "      <td>1.576913</td>\n",
              "      <td>0.817220</td>\n",
              "      <td>00:01</td>\n",
              "    </tr>\n",
              "    <tr>\n",
              "      <td>11</td>\n",
              "      <td>0.017019</td>\n",
              "      <td>1.570124</td>\n",
              "      <td>0.817627</td>\n",
              "      <td>00:01</td>\n",
              "    </tr>\n",
              "    <tr>\n",
              "      <td>12</td>\n",
              "      <td>0.013429</td>\n",
              "      <td>1.539110</td>\n",
              "      <td>0.814697</td>\n",
              "      <td>00:01</td>\n",
              "    </tr>\n",
              "    <tr>\n",
              "      <td>13</td>\n",
              "      <td>0.011248</td>\n",
              "      <td>1.559477</td>\n",
              "      <td>0.820882</td>\n",
              "      <td>00:01</td>\n",
              "    </tr>\n",
              "    <tr>\n",
              "      <td>14</td>\n",
              "      <td>0.009824</td>\n",
              "      <td>1.550673</td>\n",
              "      <td>0.819906</td>\n",
              "      <td>00:01</td>\n",
              "    </tr>\n",
              "  </tbody>\n",
              "</table>"
            ],
            "text/plain": [
              "<IPython.core.display.HTML object>"
            ]
          },
          "metadata": {
            "tags": []
          }
        }
      ]
    },
    {
      "cell_type": "markdown",
      "metadata": {
        "id": "zcfEqPd-isil"
      },
      "source": [
        "## Model with custom GRU implementation\n",
        "\n",
        "GRUCell, as per equation above from Wikipedia."
      ]
    },
    {
      "cell_type": "code",
      "metadata": {
        "id": "Wp8Ub_tBi0Te"
      },
      "source": [
        "class GRUCell(Module):\n",
        "    def __init__(self, ni, nh):\n",
        "        self.reset_gate = nn.Linear(ni + nh, nh)\n",
        "        self.update_gate  = nn.Linear(ni + nh, nh)\n",
        "        self.candidate  = nn.Linear(ni + nh, nh)\n",
        "\n",
        "    def forward(self, input, h):\n",
        "        outputs = []\n",
        "        for i in range(sl):\n",
        "          x = input[:, i, :]\n",
        "          h_old = h\n",
        "          h = torch.cat([h, x], dim=1)\n",
        "          \n",
        "          rt = torch.sigmoid(self.reset_gate(h))\n",
        "          zt = torch.sigmoid(self.update_gate(h))\n",
        "\n",
        "          rt_h_x = torch.cat([h_old * rt, x], dim=1)\n",
        "          ht_hat = torch.tanh(self.candidate(rt_h_x))\n",
        "          \n",
        "          h = ((1 - zt) * h_old) + (zt * ht_hat)\n",
        "          outputs.append(h)\n",
        "        return torch.stack(outputs, dim=1), h"
      ],
      "execution_count": 13,
      "outputs": []
    },
    {
      "cell_type": "code",
      "metadata": {
        "id": "31ZfMfqUi5Y9"
      },
      "source": [
        "class LMModelX(Module):\n",
        "    def __init__(self, vocab_sz, n_hidden):\n",
        "        self.i_h = nn.Embedding(vocab_sz, n_hidden)\n",
        "        self.rnn = GRUCell(bs, n_hidden)\n",
        "        self.h_o = nn.Linear(n_hidden, vocab_sz)\n",
        "        self.h = torch.zeros(bs, n_hidden)\n",
        "        \n",
        "    def forward(self, x):\n",
        "        res, h = self.rnn(self.i_h(x), self.h)\n",
        "        self.h = h.detach()\n",
        "        return self.h_o(res)\n",
        "\n",
        "    def reset(self):\n",
        "        self.h = self.h.zero_()"
      ],
      "execution_count": 16,
      "outputs": []
    },
    {
      "cell_type": "code",
      "metadata": {
        "colab": {
          "base_uri": "https://localhost:8080/",
          "height": 520
        },
        "id": "Tiq3YMjvi7P0",
        "outputId": "944513f8-0a92-49e4-bd4c-4b6308b74589"
      },
      "source": [
        "learn = Learner(dls, LMModelX(len(vocab), 64), \n",
        "                loss_func=CrossEntropyLossFlat(), \n",
        "                metrics=accuracy, cbs=ModelResetter)\n",
        "learn.fit_one_cycle(15, 1e-2)"
      ],
      "execution_count": 17,
      "outputs": [
        {
          "output_type": "display_data",
          "data": {
            "text/html": [
              "<table border=\"1\" class=\"dataframe\">\n",
              "  <thead>\n",
              "    <tr style=\"text-align: left;\">\n",
              "      <th>epoch</th>\n",
              "      <th>train_loss</th>\n",
              "      <th>valid_loss</th>\n",
              "      <th>accuracy</th>\n",
              "      <th>time</th>\n",
              "    </tr>\n",
              "  </thead>\n",
              "  <tbody>\n",
              "    <tr>\n",
              "      <td>0</td>\n",
              "      <td>2.879817</td>\n",
              "      <td>2.598815</td>\n",
              "      <td>0.286296</td>\n",
              "      <td>00:01</td>\n",
              "    </tr>\n",
              "    <tr>\n",
              "      <td>1</td>\n",
              "      <td>1.943929</td>\n",
              "      <td>1.971485</td>\n",
              "      <td>0.321777</td>\n",
              "      <td>00:01</td>\n",
              "    </tr>\n",
              "    <tr>\n",
              "      <td>2</td>\n",
              "      <td>1.560044</td>\n",
              "      <td>1.852278</td>\n",
              "      <td>0.425049</td>\n",
              "      <td>00:01</td>\n",
              "    </tr>\n",
              "    <tr>\n",
              "      <td>3</td>\n",
              "      <td>1.229757</td>\n",
              "      <td>1.579086</td>\n",
              "      <td>0.482178</td>\n",
              "      <td>00:01</td>\n",
              "    </tr>\n",
              "    <tr>\n",
              "      <td>4</td>\n",
              "      <td>0.944830</td>\n",
              "      <td>1.440558</td>\n",
              "      <td>0.564290</td>\n",
              "      <td>00:01</td>\n",
              "    </tr>\n",
              "    <tr>\n",
              "      <td>5</td>\n",
              "      <td>0.694256</td>\n",
              "      <td>1.065961</td>\n",
              "      <td>0.642741</td>\n",
              "      <td>00:01</td>\n",
              "    </tr>\n",
              "    <tr>\n",
              "      <td>6</td>\n",
              "      <td>0.489304</td>\n",
              "      <td>1.037930</td>\n",
              "      <td>0.694661</td>\n",
              "      <td>00:01</td>\n",
              "    </tr>\n",
              "    <tr>\n",
              "      <td>7</td>\n",
              "      <td>0.339288</td>\n",
              "      <td>1.020411</td>\n",
              "      <td>0.734456</td>\n",
              "      <td>00:01</td>\n",
              "    </tr>\n",
              "    <tr>\n",
              "      <td>8</td>\n",
              "      <td>0.242954</td>\n",
              "      <td>0.880779</td>\n",
              "      <td>0.773438</td>\n",
              "      <td>00:01</td>\n",
              "    </tr>\n",
              "    <tr>\n",
              "      <td>9</td>\n",
              "      <td>0.178799</td>\n",
              "      <td>0.906347</td>\n",
              "      <td>0.786458</td>\n",
              "      <td>00:01</td>\n",
              "    </tr>\n",
              "    <tr>\n",
              "      <td>10</td>\n",
              "      <td>0.137746</td>\n",
              "      <td>0.806697</td>\n",
              "      <td>0.809326</td>\n",
              "      <td>00:01</td>\n",
              "    </tr>\n",
              "    <tr>\n",
              "      <td>11</td>\n",
              "      <td>0.109303</td>\n",
              "      <td>0.858771</td>\n",
              "      <td>0.797607</td>\n",
              "      <td>00:01</td>\n",
              "    </tr>\n",
              "    <tr>\n",
              "      <td>12</td>\n",
              "      <td>0.091209</td>\n",
              "      <td>0.861256</td>\n",
              "      <td>0.803060</td>\n",
              "      <td>00:01</td>\n",
              "    </tr>\n",
              "    <tr>\n",
              "      <td>13</td>\n",
              "      <td>0.080470</td>\n",
              "      <td>0.858195</td>\n",
              "      <td>0.801758</td>\n",
              "      <td>00:01</td>\n",
              "    </tr>\n",
              "    <tr>\n",
              "      <td>14</td>\n",
              "      <td>0.075250</td>\n",
              "      <td>0.858205</td>\n",
              "      <td>0.802165</td>\n",
              "      <td>00:01</td>\n",
              "    </tr>\n",
              "  </tbody>\n",
              "</table>"
            ],
            "text/plain": [
              "<IPython.core.display.HTML object>"
            ]
          },
          "metadata": {
            "tags": []
          }
        }
      ]
    },
    {
      "cell_type": "code",
      "metadata": {
        "id": "It6Br2-qiVBD"
      },
      "source": [
        ""
      ],
      "execution_count": null,
      "outputs": []
    }
  ]
}