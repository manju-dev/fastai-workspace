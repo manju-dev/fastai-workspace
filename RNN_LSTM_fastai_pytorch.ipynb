{
  "nbformat": 4,
  "nbformat_minor": 0,
  "metadata": {
    "colab": {
      "name": "RNN-LSTM-fastai-pytorch.ipynb",
      "provenance": [],
      "collapsed_sections": [
        "mP1G5BXIM_ZU"
      ]
    },
    "kernelspec": {
      "name": "python3",
      "display_name": "Python 3"
    }
  },
  "cells": [
    {
      "cell_type": "markdown",
      "metadata": {
        "id": "y6eFYImEQtV-"
      },
      "source": [
        "# RNN-LSTM architecture implementation with fast.ai and PyTorch\n",
        "\n",
        "### LSTM Architecture\n",
        "![LSTM Cell](https://upload.wikimedia.org/wikipedia/commons/5/56/LSTM_cell.svg)\n",
        "\n",
        "\n",
        "### Equations - LSTM with a forget gate\n",
        "![LSTM equations](https://wikimedia.org/api/rest_v1/media/math/render/svg/7dee414820d5c0162ae1fff1899e58b08923944f)\n",
        "\n",
        "\n",
        "**References**\n",
        "* [fastbook - Chapter 12 - NLP](https://github.com/fastai/fastbook/blob/master/12_nlp_dive.ipynb)\n",
        "* [Wikipedia - Long short-term memory](https://en.wikipedia.org/wiki/Long_short-term_memory)"
      ]
    },
    {
      "cell_type": "markdown",
      "metadata": {
        "id": "mP1G5BXIM_ZU"
      },
      "source": [
        "## Setup\n",
        "\n",
        "Download and preprocessing HUMAN_NUMBERS dataset from fast.ai"
      ]
    },
    {
      "cell_type": "code",
      "metadata": {
        "id": "HXFNR3rqNPEq",
        "colab": {
          "base_uri": "https://localhost:8080/"
        },
        "outputId": "9fd4b47c-2ec7-4587-ee84-f4db97d2cded"
      },
      "source": [
        "!pip install -Uqq fastai"
      ],
      "execution_count": 1,
      "outputs": [
        {
          "output_type": "stream",
          "text": [
            "\u001b[?25l\r\u001b[K     |█▊                              | 10kB 17.0MB/s eta 0:00:01\r\u001b[K     |███▌                            | 20kB 21.6MB/s eta 0:00:01\r\u001b[K     |█████▏                          | 30kB 10.0MB/s eta 0:00:01\r\u001b[K     |███████                         | 40kB 8.3MB/s eta 0:00:01\r\u001b[K     |████████▋                       | 51kB 4.4MB/s eta 0:00:01\r\u001b[K     |██████████▍                     | 61kB 4.9MB/s eta 0:00:01\r\u001b[K     |████████████                    | 71kB 5.2MB/s eta 0:00:01\r\u001b[K     |█████████████▉                  | 81kB 5.7MB/s eta 0:00:01\r\u001b[K     |███████████████▌                | 92kB 5.3MB/s eta 0:00:01\r\u001b[K     |█████████████████▎              | 102kB 5.7MB/s eta 0:00:01\r\u001b[K     |███████████████████             | 112kB 5.7MB/s eta 0:00:01\r\u001b[K     |████████████████████▊           | 122kB 5.7MB/s eta 0:00:01\r\u001b[K     |██████████████████████▍         | 133kB 5.7MB/s eta 0:00:01\r\u001b[K     |████████████████████████▏       | 143kB 5.7MB/s eta 0:00:01\r\u001b[K     |█████████████████████████▉      | 153kB 5.7MB/s eta 0:00:01\r\u001b[K     |███████████████████████████▋    | 163kB 5.7MB/s eta 0:00:01\r\u001b[K     |█████████████████████████████▎  | 174kB 5.7MB/s eta 0:00:01\r\u001b[K     |███████████████████████████████ | 184kB 5.7MB/s eta 0:00:01\r\u001b[K     |████████████████████████████████| 194kB 5.7MB/s \n",
            "\u001b[?25h"
          ],
          "name": "stdout"
        }
      ]
    },
    {
      "cell_type": "code",
      "metadata": {
        "id": "6DAPtXeENP-d"
      },
      "source": [
        "from fastai.text.all import *\n",
        "path = untar_data(URLs.HUMAN_NUMBERS)"
      ],
      "execution_count": 2,
      "outputs": []
    },
    {
      "cell_type": "code",
      "metadata": {
        "colab": {
          "base_uri": "https://localhost:8080/"
        },
        "id": "eN1cWnrqNRik",
        "outputId": "70ce8958-c5f3-460d-e24b-9d6010d60bd5"
      },
      "source": [
        "lines = L()\n",
        "with open(path/'train.txt') as f: lines += L(*f.readlines())\n",
        "with open(path/'valid.txt') as f: lines += L(*f.readlines())\n",
        "lines"
      ],
      "execution_count": 3,
      "outputs": [
        {
          "output_type": "execute_result",
          "data": {
            "text/plain": [
              "(#9998) ['one \\n','two \\n','three \\n','four \\n','five \\n','six \\n','seven \\n','eight \\n','nine \\n','ten \\n'...]"
            ]
          },
          "metadata": {
            "tags": []
          },
          "execution_count": 3
        }
      ]
    },
    {
      "cell_type": "code",
      "metadata": {
        "colab": {
          "base_uri": "https://localhost:8080/",
          "height": 37
        },
        "id": "I716vS6dNTiR",
        "outputId": "6f3f2b29-f89b-4fba-cda1-0e7a2617c960"
      },
      "source": [
        "text = ' . '.join([l.strip() for l in lines])\n",
        "text[:100]"
      ],
      "execution_count": 4,
      "outputs": [
        {
          "output_type": "execute_result",
          "data": {
            "application/vnd.google.colaboratory.intrinsic+json": {
              "type": "string"
            },
            "text/plain": [
              "'one . two . three . four . five . six . seven . eight . nine . ten . eleven . twelve . thirteen . fo'"
            ]
          },
          "metadata": {
            "tags": []
          },
          "execution_count": 4
        }
      ]
    },
    {
      "cell_type": "code",
      "metadata": {
        "colab": {
          "base_uri": "https://localhost:8080/"
        },
        "id": "HoTuZ3F1NVJs",
        "outputId": "f6425568-496f-4cf3-962f-f95521984f56"
      },
      "source": [
        "tokens = text.split(' ')\n",
        "tokens[:10]"
      ],
      "execution_count": 5,
      "outputs": [
        {
          "output_type": "execute_result",
          "data": {
            "text/plain": [
              "['one', '.', 'two', '.', 'three', '.', 'four', '.', 'five', '.']"
            ]
          },
          "metadata": {
            "tags": []
          },
          "execution_count": 5
        }
      ]
    },
    {
      "cell_type": "code",
      "metadata": {
        "colab": {
          "base_uri": "https://localhost:8080/"
        },
        "id": "8lc6k2uYNW6m",
        "outputId": "0c28d1fa-af99-4168-f194-4ba98916248e"
      },
      "source": [
        "vocab = L(*tokens).unique()\n",
        "vocab"
      ],
      "execution_count": 6,
      "outputs": [
        {
          "output_type": "execute_result",
          "data": {
            "text/plain": [
              "(#30) ['one','.','two','three','four','five','six','seven','eight','nine'...]"
            ]
          },
          "metadata": {
            "tags": []
          },
          "execution_count": 6
        }
      ]
    },
    {
      "cell_type": "code",
      "metadata": {
        "colab": {
          "base_uri": "https://localhost:8080/"
        },
        "id": "n2JvW1BKNZgh",
        "outputId": "3b78626e-687e-497f-fcf7-7962e52857df"
      },
      "source": [
        "word2idx = {w:i for i,w in enumerate(vocab)}\n",
        "nums = L(word2idx[i] for i in tokens)\n",
        "nums"
      ],
      "execution_count": 7,
      "outputs": [
        {
          "output_type": "execute_result",
          "data": {
            "text/plain": [
              "(#63095) [0,1,2,1,3,1,4,1,5,1...]"
            ]
          },
          "metadata": {
            "tags": []
          },
          "execution_count": 7
        }
      ]
    },
    {
      "cell_type": "code",
      "metadata": {
        "id": "BHwmpdMlPEcw"
      },
      "source": [
        "def group_chunks(ds, bs):\n",
        "    m = len(ds) // bs\n",
        "    new_ds = L()\n",
        "    for i in range(m): new_ds += L(ds[i + m*j] for j in range(bs))\n",
        "    return new_ds"
      ],
      "execution_count": 8,
      "outputs": []
    },
    {
      "cell_type": "code",
      "metadata": {
        "id": "XNtADLvnO2dH"
      },
      "source": [
        "bs = 64\n",
        "sl = 16\n",
        "seqs = L((tensor(nums[i:i+sl]), tensor(nums[i+1:i+sl+1]))\n",
        "         for i in range(0,len(nums)-sl-1,sl))\n",
        "cut = int(len(seqs) * 0.8)\n",
        "dls = DataLoaders.from_dsets(group_chunks(seqs[:cut], bs),\n",
        "                             group_chunks(seqs[cut:], bs),\n",
        "                             bs=bs, drop_last=True, shuffle=False)"
      ],
      "execution_count": 9,
      "outputs": []
    },
    {
      "cell_type": "markdown",
      "metadata": {
        "id": "fMUQxCrPQaba"
      },
      "source": [
        "## Model with built-in LSTM function\n",
        "\n",
        "To compare with our model implementation"
      ]
    },
    {
      "cell_type": "code",
      "metadata": {
        "id": "2Ql2JvhiOJoz"
      },
      "source": [
        "class LMModel(Module):\n",
        "    def __init__(self, vocab_sz, n_hidden, n_layers):\n",
        "        self.i_h = nn.Embedding(vocab_sz, n_hidden)\n",
        "        self.rnn = nn.LSTM(n_hidden, n_hidden, n_layers, batch_first=True)\n",
        "        self.h_o = nn.Linear(n_hidden, vocab_sz)\n",
        "        self.h = [torch.zeros(n_layers, bs, n_hidden) for _ in range(2)]\n",
        "        \n",
        "    def forward(self, x):\n",
        "        res, h = self.rnn(self.i_h(x), self.h)\n",
        "        self.h = [h_.detach() for h_ in h]\n",
        "        return self.h_o(res)\n",
        "    \n",
        "    def reset(self): \n",
        "        for h in self.h: h.zero_()"
      ],
      "execution_count": 15,
      "outputs": []
    },
    {
      "cell_type": "code",
      "metadata": {
        "colab": {
          "base_uri": "https://localhost:8080/",
          "height": 520
        },
        "id": "I-HSHzXbPZbm",
        "outputId": "c900330d-a937-410c-98e8-9f7167439622"
      },
      "source": [
        "learn = Learner(dls, LMModel(len(vocab), 64, 2), \n",
        "                loss_func=CrossEntropyLossFlat(), \n",
        "                metrics=accuracy, cbs=ModelResetter)\n",
        "learn.fit_one_cycle(15, 1e-2)"
      ],
      "execution_count": 16,
      "outputs": [
        {
          "output_type": "display_data",
          "data": {
            "text/html": [
              "<table border=\"1\" class=\"dataframe\">\n",
              "  <thead>\n",
              "    <tr style=\"text-align: left;\">\n",
              "      <th>epoch</th>\n",
              "      <th>train_loss</th>\n",
              "      <th>valid_loss</th>\n",
              "      <th>accuracy</th>\n",
              "      <th>time</th>\n",
              "    </tr>\n",
              "  </thead>\n",
              "  <tbody>\n",
              "    <tr>\n",
              "      <td>0</td>\n",
              "      <td>3.055825</td>\n",
              "      <td>2.775102</td>\n",
              "      <td>0.171794</td>\n",
              "      <td>00:02</td>\n",
              "    </tr>\n",
              "    <tr>\n",
              "      <td>1</td>\n",
              "      <td>2.221072</td>\n",
              "      <td>1.764197</td>\n",
              "      <td>0.411377</td>\n",
              "      <td>00:02</td>\n",
              "    </tr>\n",
              "    <tr>\n",
              "      <td>2</td>\n",
              "      <td>1.629837</td>\n",
              "      <td>1.762449</td>\n",
              "      <td>0.462646</td>\n",
              "      <td>00:02</td>\n",
              "    </tr>\n",
              "    <tr>\n",
              "      <td>3</td>\n",
              "      <td>1.321504</td>\n",
              "      <td>2.075851</td>\n",
              "      <td>0.496908</td>\n",
              "      <td>00:02</td>\n",
              "    </tr>\n",
              "    <tr>\n",
              "      <td>4</td>\n",
              "      <td>1.096306</td>\n",
              "      <td>2.156112</td>\n",
              "      <td>0.515137</td>\n",
              "      <td>00:02</td>\n",
              "    </tr>\n",
              "    <tr>\n",
              "      <td>5</td>\n",
              "      <td>0.858027</td>\n",
              "      <td>2.050146</td>\n",
              "      <td>0.545166</td>\n",
              "      <td>00:02</td>\n",
              "    </tr>\n",
              "    <tr>\n",
              "      <td>6</td>\n",
              "      <td>0.638046</td>\n",
              "      <td>1.777854</td>\n",
              "      <td>0.598958</td>\n",
              "      <td>00:02</td>\n",
              "    </tr>\n",
              "    <tr>\n",
              "      <td>7</td>\n",
              "      <td>0.454945</td>\n",
              "      <td>1.834544</td>\n",
              "      <td>0.633952</td>\n",
              "      <td>00:02</td>\n",
              "    </tr>\n",
              "    <tr>\n",
              "      <td>8</td>\n",
              "      <td>0.296643</td>\n",
              "      <td>1.781012</td>\n",
              "      <td>0.672689</td>\n",
              "      <td>00:02</td>\n",
              "    </tr>\n",
              "    <tr>\n",
              "      <td>9</td>\n",
              "      <td>0.184759</td>\n",
              "      <td>1.823402</td>\n",
              "      <td>0.697591</td>\n",
              "      <td>00:02</td>\n",
              "    </tr>\n",
              "    <tr>\n",
              "      <td>10</td>\n",
              "      <td>0.126030</td>\n",
              "      <td>1.905691</td>\n",
              "      <td>0.691976</td>\n",
              "      <td>00:02</td>\n",
              "    </tr>\n",
              "    <tr>\n",
              "      <td>11</td>\n",
              "      <td>0.088038</td>\n",
              "      <td>1.862361</td>\n",
              "      <td>0.708984</td>\n",
              "      <td>00:02</td>\n",
              "    </tr>\n",
              "    <tr>\n",
              "      <td>12</td>\n",
              "      <td>0.063147</td>\n",
              "      <td>1.869775</td>\n",
              "      <td>0.708984</td>\n",
              "      <td>00:02</td>\n",
              "    </tr>\n",
              "    <tr>\n",
              "      <td>13</td>\n",
              "      <td>0.050977</td>\n",
              "      <td>1.872168</td>\n",
              "      <td>0.710531</td>\n",
              "      <td>00:02</td>\n",
              "    </tr>\n",
              "    <tr>\n",
              "      <td>14</td>\n",
              "      <td>0.045285</td>\n",
              "      <td>1.861922</td>\n",
              "      <td>0.712728</td>\n",
              "      <td>00:02</td>\n",
              "    </tr>\n",
              "  </tbody>\n",
              "</table>"
            ],
            "text/plain": [
              "<IPython.core.display.HTML object>"
            ]
          },
          "metadata": {
            "tags": []
          }
        }
      ]
    },
    {
      "cell_type": "markdown",
      "metadata": {
        "id": "lEzELisv6gyi"
      },
      "source": [
        "## Model with custom LSTM implementation\n",
        "\n",
        "LSTMCell from fastbook, modified to handle sequence length"
      ]
    },
    {
      "cell_type": "code",
      "metadata": {
        "id": "TgX-vy0b6f0t"
      },
      "source": [
        "class LSTMCell(Module):\n",
        "    def __init__(self, ni, nh):\n",
        "        self.forget_gate = nn.Linear(ni + nh, nh)\n",
        "        self.input_gate  = nn.Linear(ni + nh, nh)\n",
        "        self.cell_gate   = nn.Linear(ni + nh, nh)\n",
        "        self.output_gate = nn.Linear(ni + nh, nh)\n",
        "\n",
        "    def forward(self, input, state):\n",
        "        outputs = []\n",
        "        h, c = state\n",
        "        for i in range(sl):\n",
        "          h = torch.cat([h, input[:, i, :]], dim=1)\n",
        "          forget = torch.sigmoid(self.forget_gate(h))\n",
        "          c = c * forget\n",
        "          inp = torch.sigmoid(self.input_gate(h))\n",
        "          cell = torch.tanh(self.cell_gate(h))\n",
        "          c = c + inp * cell\n",
        "          out = torch.sigmoid(self.output_gate(h))\n",
        "          h = out * torch.tanh(c)\n",
        "          outputs.append(h)\n",
        "        return torch.stack(outputs, dim=1), (h, c)"
      ],
      "execution_count": 17,
      "outputs": []
    },
    {
      "cell_type": "code",
      "metadata": {
        "id": "R24y40-36soB"
      },
      "source": [
        "class LMModelX(Module):\n",
        "    def __init__(self, vocab_sz, n_hidden):\n",
        "        self.i_h = nn.Embedding(vocab_sz, n_hidden)\n",
        "        self.rnn = LSTMCell(bs, n_hidden)\n",
        "        self.h_o = nn.Linear(n_hidden, vocab_sz)\n",
        "        self.h = [torch.zeros(bs, n_hidden) for _ in range(2)]\n",
        "        \n",
        "    def forward(self, x):\n",
        "        res, h = self.rnn(self.i_h(x), self.h)\n",
        "        self.h = [h_.detach() for h_ in h]\n",
        "        return self.h_o(res)\n",
        "\n",
        "    def reset(self): \n",
        "        for h in self.h: h.zero_()"
      ],
      "execution_count": 18,
      "outputs": []
    },
    {
      "cell_type": "code",
      "metadata": {
        "colab": {
          "base_uri": "https://localhost:8080/",
          "height": 520
        },
        "id": "XQDw2BTZ6u0i",
        "outputId": "a7666759-1f19-4c6a-ba02-c99dd26cb784"
      },
      "source": [
        "learn = Learner(dls, LMModelX(len(vocab), 64), \n",
        "                loss_func=CrossEntropyLossFlat(), \n",
        "                metrics=accuracy, cbs=ModelResetter)\n",
        "learn.fit_one_cycle(15, 1e-2)"
      ],
      "execution_count": 19,
      "outputs": [
        {
          "output_type": "display_data",
          "data": {
            "text/html": [
              "<table border=\"1\" class=\"dataframe\">\n",
              "  <thead>\n",
              "    <tr style=\"text-align: left;\">\n",
              "      <th>epoch</th>\n",
              "      <th>train_loss</th>\n",
              "      <th>valid_loss</th>\n",
              "      <th>accuracy</th>\n",
              "      <th>time</th>\n",
              "    </tr>\n",
              "  </thead>\n",
              "  <tbody>\n",
              "    <tr>\n",
              "      <td>0</td>\n",
              "      <td>2.956665</td>\n",
              "      <td>2.522780</td>\n",
              "      <td>0.299479</td>\n",
              "      <td>00:01</td>\n",
              "    </tr>\n",
              "    <tr>\n",
              "      <td>1</td>\n",
              "      <td>1.989015</td>\n",
              "      <td>1.970153</td>\n",
              "      <td>0.318034</td>\n",
              "      <td>00:01</td>\n",
              "    </tr>\n",
              "    <tr>\n",
              "      <td>2</td>\n",
              "      <td>1.550810</td>\n",
              "      <td>1.760146</td>\n",
              "      <td>0.480876</td>\n",
              "      <td>00:01</td>\n",
              "    </tr>\n",
              "    <tr>\n",
              "      <td>3</td>\n",
              "      <td>1.289587</td>\n",
              "      <td>1.851735</td>\n",
              "      <td>0.520426</td>\n",
              "      <td>00:01</td>\n",
              "    </tr>\n",
              "    <tr>\n",
              "      <td>4</td>\n",
              "      <td>1.066140</td>\n",
              "      <td>1.699347</td>\n",
              "      <td>0.603109</td>\n",
              "      <td>00:01</td>\n",
              "    </tr>\n",
              "    <tr>\n",
              "      <td>5</td>\n",
              "      <td>0.852790</td>\n",
              "      <td>1.740918</td>\n",
              "      <td>0.633057</td>\n",
              "      <td>00:01</td>\n",
              "    </tr>\n",
              "    <tr>\n",
              "      <td>6</td>\n",
              "      <td>0.643045</td>\n",
              "      <td>1.649858</td>\n",
              "      <td>0.700521</td>\n",
              "      <td>00:01</td>\n",
              "    </tr>\n",
              "    <tr>\n",
              "      <td>7</td>\n",
              "      <td>0.441365</td>\n",
              "      <td>1.690009</td>\n",
              "      <td>0.707275</td>\n",
              "      <td>00:01</td>\n",
              "    </tr>\n",
              "    <tr>\n",
              "      <td>8</td>\n",
              "      <td>0.279773</td>\n",
              "      <td>1.612885</td>\n",
              "      <td>0.772868</td>\n",
              "      <td>00:01</td>\n",
              "    </tr>\n",
              "    <tr>\n",
              "      <td>9</td>\n",
              "      <td>0.170428</td>\n",
              "      <td>1.578884</td>\n",
              "      <td>0.778809</td>\n",
              "      <td>00:01</td>\n",
              "    </tr>\n",
              "    <tr>\n",
              "      <td>10</td>\n",
              "      <td>0.108500</td>\n",
              "      <td>1.581927</td>\n",
              "      <td>0.780843</td>\n",
              "      <td>00:01</td>\n",
              "    </tr>\n",
              "    <tr>\n",
              "      <td>11</td>\n",
              "      <td>0.074491</td>\n",
              "      <td>1.598427</td>\n",
              "      <td>0.781087</td>\n",
              "      <td>00:01</td>\n",
              "    </tr>\n",
              "    <tr>\n",
              "      <td>12</td>\n",
              "      <td>0.056575</td>\n",
              "      <td>1.589454</td>\n",
              "      <td>0.786540</td>\n",
              "      <td>00:01</td>\n",
              "    </tr>\n",
              "    <tr>\n",
              "      <td>13</td>\n",
              "      <td>0.047271</td>\n",
              "      <td>1.598178</td>\n",
              "      <td>0.784587</td>\n",
              "      <td>00:01</td>\n",
              "    </tr>\n",
              "    <tr>\n",
              "      <td>14</td>\n",
              "      <td>0.043034</td>\n",
              "      <td>1.599817</td>\n",
              "      <td>0.784505</td>\n",
              "      <td>00:01</td>\n",
              "    </tr>\n",
              "  </tbody>\n",
              "</table>"
            ],
            "text/plain": [
              "<IPython.core.display.HTML object>"
            ]
          },
          "metadata": {
            "tags": []
          }
        }
      ]
    },
    {
      "cell_type": "code",
      "metadata": {
        "id": "Xeh2tc6igJtx"
      },
      "source": [
        ""
      ],
      "execution_count": null,
      "outputs": []
    }
  ]
}